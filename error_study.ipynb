{
 "cells": [
  {
   "cell_type": "code",
   "execution_count": 1,
   "metadata": {},
   "outputs": [],
   "source": [
    "import sys\n",
    "sys.path.insert(1, '/home/kardashin/Work')\n",
    "sys.path.insert(1, 'C:/Users/kardashin/Work')\n",
    "from variationals import *\n",
    "\n",
    "from scipy.stats import gaussian_kde, unitary_group\n",
    "from scipy.linalg import logm\n",
    "from numpy import outer\n",
    "from numpy.linalg import eig, eigh, norm\n",
    "from math import log2\n",
    "\n",
    "import seaborn as sns\n",
    "\n",
    "from functools import reduce\n",
    "from itertools import product\n",
    "\n",
    "import time\n",
    "\n",
    "from qiskit import IBMQ\n",
    "from qiskit.quantum_info import Operator\n",
    "provider = IBMQ.load_account()\n",
    "from qiskit.providers.aer.noise import NoiseModel\n",
    "\n",
    "import matplotlib\n",
    "from matplotlib import rc\n",
    "matplotlib.rc('font', family='CMU Serif')\n",
    "matplotlib.rcParams['mathtext.fontset'] = 'cm' \n",
    "matplotlib.rcParams['axes.unicode_minus'] = False\n",
    "import matplotlib.pyplot as plt\n",
    "from matplotlib.colors import LinearSegmentedColormap"
   ]
  },
  {
   "cell_type": "code",
   "execution_count": 3,
   "metadata": {},
   "outputs": [],
   "source": [
    "def hs_product(op1, op2):\n",
    "    return trace((op1.conj().T).dot(op2))"
   ]
  },
  {
   "cell_type": "code",
   "execution_count": 300,
   "metadata": {},
   "outputs": [],
   "source": [
    "def schwinger_model(n_qubits, w, m, g):\n",
    "    \n",
    "    d = 2**n_qubits\n",
    "    \n",
    "    sp = (X_np + 1j * Y_np) / 2\n",
    "    sm = (X_np - 1j * Y_np) / 2\n",
    "    \n",
    "    term_1 = 1j * np.zeros((d, d))\n",
    "    for j in range(n_qubits):\n",
    "        k = (j + 1) % n_qubits\n",
    "        crea = [I_np]*j + [sp] + [I_np]*(n_qubits - j - 1)\n",
    "        anni = [I_np]*k + [sm] + [I_np]*(n_qubits - k - 1)\n",
    "        crea = reduce(kron, crea)\n",
    "        anni = reduce(kron, anni)\n",
    "        op = crea.dot(anni)\n",
    "        term_1 = term_1 + op + op.conj().T\n",
    "    term_1 = w * term_1\n",
    "\n",
    "    term_2 = 1j * np.zeros((d, d))\n",
    "    for j in range(n_qubits):\n",
    "        operator = [I_np]*j + [Z_np] + [I_np]*(n_qubits - 1 - j)\n",
    "        term_2 = term_2 + (-1)**(j + 1) * reduce(kron, operator)\n",
    "    term_2 = m / 2 * term_2\n",
    "\n",
    "    term_3 = 1j * np.zeros((d, d))\n",
    "    for j in range(n_qubits):\n",
    "        L = 1j * np.zeros((d, d))\n",
    "        for l in range(j + 1):\n",
    "            operator = [I_np]*n_qubits\n",
    "            operator[l] = Z_np + (-1)**(l + 1) * I_np\n",
    "            L = L - 0.5 * reduce(kron, operator)\n",
    "        term_3 = term_3 + L.dot(L)\n",
    "    term_3 = g * term_3\n",
    "        \n",
    "    return term_1 + term_2 + term_3"
   ]
  },
  {
   "cell_type": "markdown",
   "metadata": {},
   "source": [
    "# v0"
   ]
  },
  {
   "cell_type": "code",
   "execution_count": 4,
   "metadata": {},
   "outputs": [
    {
     "name": "stdout",
     "output_type": "stream",
     "text": [
      "HS product: 0.9806410808309554\n"
     ]
    }
   ],
   "source": [
    "n_qubits = 4\n",
    "J = 1\n",
    "h = 1\n",
    "t = 1\n",
    "k = 5\n",
    "\n",
    "zz = expm(-1j * t/k * hamiltonian_dictionary_to_matrix(ising_model(n_qubits, J, 0)))\n",
    "x = expm(-1j * t/k * hamiltonian_dictionary_to_matrix(ising_model(n_qubits, 0, h)))\n",
    "\n",
    "u_a = reduce(np.dot, [np.dot(zz, x)]*k)\n",
    "u_e = expm(-1j * t * hamiltonian_dictionary_to_matrix(ising_model(n_qubits, J, h)))\n",
    "\n",
    "print('HS product:', abs(hs_product(u_a, u_e) / 2**n_qubits))"
   ]
  },
  {
   "cell_type": "code",
   "execution_count": 5,
   "metadata": {},
   "outputs": [
    {
     "name": "stdout",
     "output_type": "stream",
     "text": [
      "Cost appro: 0.13458798416065376\n",
      "Cost exact: 0.13318597873059768\n"
     ]
    }
   ],
   "source": [
    "n_qubits = 2\n",
    "n_layers = 1\n",
    "J = 1\n",
    "h = 1\n",
    "t = 1\n",
    "k = 10\n",
    "\n",
    "zz = expm(-1j * t/k * hamiltonian_dictionary_to_matrix(ising_model(n_qubits, J, 0)))\n",
    "x = expm(-1j * t/k * hamiltonian_dictionary_to_matrix(ising_model(n_qubits, 0, h)))\n",
    "\n",
    "u_a = reduce(np.dot, [np.dot(zz, x)]*k)\n",
    "u_e = expm(-1j * t * hamiltonian_dictionary_to_matrix(ising_model(n_qubits, J, h)))\n",
    "\n",
    "statevector = np.dot( tensor_network_to_matrix(n_qubits, heas_ansatz_eff(n_qubits, n_layers)), [1] + [0]*(2**n_qubits - 1) )\n",
    "\n",
    "cost_a = abs(statevector.conj().T.dot(u_a).dot(statevector))**2\n",
    "cost_e = abs(statevector.conj().T.dot(u_e).dot(statevector))**2\n",
    "\n",
    "print('Cost appro:', cost_a)\n",
    "print('Cost exact:', cost_e)"
   ]
  },
  {
   "cell_type": "code",
   "execution_count": 6,
   "metadata": {},
   "outputs": [
    {
     "data": {
      "image/png": "[encoded data removed]",
      "text/plain": [
       "<Figure size 504x288 with 1 Axes>"
      ]
     },
     "metadata": {
      "needs_background": "light"
     },
     "output_type": "display_data"
    }
   ],
   "source": [
    "n_qubits = 4\n",
    "n_layers = 1\n",
    "t = 1\n",
    "ks = [i for i in range(1, 10)]\n",
    "J = 1\n",
    "h = 1\n",
    "\n",
    "u_e = expm(-1j * t * hamiltonian_dictionary_to_matrix(ising_model(n_qubits, J, h)))\n",
    "\n",
    "n_instances = 100\n",
    "seeds = random.sample(range(int(1e10)), n_instances)\n",
    "state_tensor_networks = [heas_ansatz_eff(n_qubits, n_layers) for i in range(n_instances)]\n",
    "\n",
    "zerostate = [1] + [0]*(2**n_qubits - 1)\n",
    "\n",
    "difs = []\n",
    "for k in ks:\n",
    "    difs_local = []\n",
    "    for i in range(n_instances):\n",
    "        \n",
    "        zz = expm(-1j * t/k * hamiltonian_dictionary_to_matrix(ising_model(n_qubits, J, 0)))\n",
    "        x = expm(-1j * t/k * hamiltonian_dictionary_to_matrix(ising_model(n_qubits, 0, h)))\n",
    "        u_a = reduce(np.dot, [np.dot(zz, x)]*k)\n",
    "        \n",
    "        statevector = np.dot( tensor_network_to_matrix(n_qubits, state_tensor_networks[i]), zerostate )\n",
    "\n",
    "        cost_a = abs(statevector.conj().T.dot(u_a).dot(statevector))**2\n",
    "        cost_e = abs(statevector.conj().T.dot(u_e).dot(statevector))**2\n",
    "        \n",
    "        p_approx = abs(statevector.conj().T.dot(u_a).dot(statevector))**2\n",
    "        p_exact = abs(statevector.conj().T.dot(u_e).dot(statevector))**2\n",
    "        \n",
    "        \n",
    "        difs_local.append(abs(p_approx - p_exact))\n",
    "    difs.append(np.mean(difs_local))\n",
    "    \n",
    "plt.figure(figsize=(7, 4))\n",
    "plt.plot(ks, difs, label='$energy$', linewidth=2.5)\n",
    "plt.xlabel(r'$k$', fontsize=16)\n",
    "plt.ylabel(r'$\\delta$', fontsize=16)\n",
    "plt.show()"
   ]
  },
  {
   "cell_type": "markdown",
   "metadata": {},
   "source": [
    "# v1"
   ]
  },
  {
   "cell_type": "code",
   "execution_count": 26,
   "metadata": {},
   "outputs": [],
   "source": [
    "def ising_unitary_trotter(qreg, creg, t, k, J=1, h=1):\n",
    "    \n",
    "    n_qubits = qreg.size\n",
    "    \n",
    "    T = 2 * t / k\n",
    "    \n",
    "    circuit = QuantumCircuit(qreg, creg)\n",
    "    \n",
    "    for i in range(k):\n",
    "        for j in range(n_qubits - 1):\n",
    "            circuit.rzz(J * T, j, j + 1)\n",
    "        if n_qubits > 2:\n",
    "            circuit.rzz(J * T, 0, n_qubits - 1)\n",
    "        for j in range(n_qubits):\n",
    "            circuit.rx(h * T, j)\n",
    "    \n",
    "#     ezz = expm(-1j * J * T * kron(Z_np, Z_np))\n",
    "#     ex = expm(-1j * h * T * X_np)\n",
    "\n",
    "#     for i in range(k):\n",
    "#         for j in range(n_qubits - 1):\n",
    "#             circuit.append(Operator(ezz), [j, j + 1])\n",
    "#         if n_qubits > 2:\n",
    "#             circuit.append(Operator(ezz), [0, n_qubits - 1])\n",
    "#         for j in range(n_qubits):\n",
    "#             circuit.append(Operator(ex), [j])\n",
    "            \n",
    "    return circuit"
   ]
  },
  {
   "cell_type": "code",
   "execution_count": 27,
   "metadata": {},
   "outputs": [],
   "source": [
    "def ising_unitary_exact(qreg, creg, t, J=1, h=1):\n",
    "    \n",
    "    n_qubits = qreg.size\n",
    "    \n",
    "    circuit = QuantumCircuit(qreg, creg)\n",
    "    matrix = expm(-1j * t * hamiltonian_dictionary_to_matrix(ising_model(n_qubits, J, h)))\n",
    "    circuit.append(Operator(matrix), [i for i in range(n_qubits)])\n",
    "    \n",
    "    return circuit"
   ]
  },
  {
   "cell_type": "code",
   "execution_count": 28,
   "metadata": {},
   "outputs": [],
   "source": [
    "def uni_cost(n_qubits, state_tensor_network, shots, t, k, J=1, h=1, seed=None):\n",
    "    \n",
    "    qreg = QuantumRegister(n_qubits)\n",
    "    creg = ClassicalRegister(n_qubits)\n",
    "\n",
    "    ansatz = tensor_network_to_qiskit_circuit(n_qubits, state_tensor_network, qreg, creg)\n",
    "    ansatz_dg = (tensor_network_to_qiskit_circuit(n_qubits, state_tensor_network, qreg, creg)).inverse()\n",
    "    \n",
    "    u_circ_approx = ising_unitary_trotter(qreg, creg, t, k, J=J, h=h)\n",
    "    u_circ_exact = ising_unitary_exact(qreg, creg, t, J=J, h=h) \n",
    "    \n",
    "    measurer = QuantumCircuit(qreg, creg)\n",
    "    for i in range(n_qubits):\n",
    "        measurer.measure(i, i)\n",
    "    \n",
    "    circuit_approx = ansatz + u_circ_approx + ansatz_dg + measurer\n",
    "    circuit_exact = ansatz + u_circ_exact + ansatz_dg + measurer\n",
    "    \n",
    "    job = execute([circuit_approx, circuit_exact], shots=shots, seed_simulator=seed, backend=Aer.get_backend('qasm_simulator'))   \n",
    "    result = job.result()\n",
    "    counts = result.get_counts()\n",
    "    \n",
    "    zeros_str = '0' * n_qubits\n",
    "    if zeros_str in counts[0].keys():\n",
    "        p0_approx = counts[0][zeros_str] / shots\n",
    "    else:\n",
    "        p0_approx = 0\n",
    "    if zeros_str in counts[1].keys():\n",
    "        p0_exact = counts[1][zeros_str] / shots\n",
    "    else:\n",
    "        p0_exact = 0\n",
    "    \n",
    "    return p0_approx, p0_exact"
   ]
  },
  {
   "cell_type": "code",
   "execution_count": 29,
   "metadata": {},
   "outputs": [
    {
     "data": {
      "text/plain": [
       "(0.053, 0.026)"
      ]
     },
     "execution_count": 29,
     "metadata": {},
     "output_type": "execute_result"
    }
   ],
   "source": [
    "n_qubits = 4\n",
    "n_layers = 3\n",
    "shots = 1000\n",
    "t = 1\n",
    "k = 1\n",
    "J = 1\n",
    "h = 1\n",
    "\n",
    "state_tensor_network = heas_ansatz_eff(n_qubits, n_layers)\n",
    "\n",
    "uni_cost(n_qubits, state_tensor_network, shots, t, k, J=J, h=h)"
   ]
  },
  {
   "cell_type": "code",
   "execution_count": 30,
   "metadata": {},
   "outputs": [
    {
     "data": {
      "image/png": "[encoded data removed]",
      "text/plain": [
       "<Figure size 504x288 with 1 Axes>"
      ]
     },
     "metadata": {
      "needs_background": "light"
     },
     "output_type": "display_data"
    }
   ],
   "source": [
    "n_qubits = 4\n",
    "n_layers = 3\n",
    "shots = 1000\n",
    "t = 1\n",
    "ks = [i for i in range(1, 10)]\n",
    "J = 1\n",
    "h = 1\n",
    "\n",
    "n_instances = 10\n",
    "seeds = random.sample(range(int(1e10)), n_instances)\n",
    "state_tensor_networks = [heas_ansatz_eff(n_qubits, n_layers) for i in range(n_instances)]\n",
    "\n",
    "difs = []\n",
    "for k in ks:\n",
    "    difs_local = []\n",
    "    for i in range(n_instances):\n",
    "        p_approx, p_exact = uni_cost(n_qubits, state_tensor_networks[i], shots=shots, t=t, k=k, J=J, h=h, seed=seeds[i])\n",
    "        difs_local.append(abs(p_approx - p_exact))\n",
    "    difs.append(np.mean(difs_local))\n",
    "    \n",
    "plt.figure(figsize=(7, 4))\n",
    "plt.plot(ks, difs, label='$energy$', linewidth=2.5)\n",
    "plt.xlabel(r'$k$', fontsize=16)\n",
    "plt.ylabel(r'$\\delta$', fontsize=16)\n",
    "plt.show()"
   ]
  },
  {
   "cell_type": "code",
   "execution_count": 10,
   "metadata": {},
   "outputs": [
    {
     "data": {
      "image/png": "[encoded data removed]",
      "text/plain": [
       "<Figure size 504x288 with 1 Axes>"
      ]
     },
     "metadata": {
      "needs_background": "light"
     },
     "output_type": "display_data"
    }
   ],
   "source": [
    "n_qubits = 2\n",
    "n_layers = 1\n",
    "shots = 1000\n",
    "ts = np.linspace(0, pi, 21)\n",
    "k = 1\n",
    "J = 1\n",
    "h = 1\n",
    "\n",
    "n_instances = 50\n",
    "seeds = random.sample(range(int(1e10)), n_instances)\n",
    "state_tensor_networks = [heas_ansatz_eff(n_qubits, n_layers) for i in range(n_instances)]\n",
    "\n",
    "difs = []\n",
    "for t in ts:\n",
    "    difs_local = []\n",
    "    for i in range(n_instances):\n",
    "        p_approx, p_exact = uni_cost(n_qubits, state_tensor_networks[i], shots=shots, t=t, k=k, J=J, h=h, seed=seeds[i])\n",
    "        difs_local.append(abs(p_approx - p_exact))\n",
    "    difs.append(np.mean(difs_local))\n",
    "    \n",
    "plt.figure(figsize=(7, 4))\n",
    "plt.plot(ts, difs, label='$energy$', linewidth=2.5)\n",
    "plt.xlabel(r'$t$', fontsize=16)\n",
    "plt.ylabel(r'$\\delta$', fontsize=16)\n",
    "plt.show()"
   ]
  },
  {
   "cell_type": "markdown",
   "metadata": {},
   "source": [
    "# v2"
   ]
  },
  {
   "cell_type": "code",
   "execution_count": 7,
   "metadata": {},
   "outputs": [],
   "source": [
    "from qiskit.aqua.operators.primitive_ops import MatrixOp\n",
    "from qiskit.aqua.operators.evolutions import Suzuki, Trotter\n",
    "from qiskit.aqua.operators.list_ops import SummedOp"
   ]
  },
  {
   "cell_type": "code",
   "execution_count": 8,
   "metadata": {},
   "outputs": [],
   "source": [
    "def string_to_matrix(operator_string):\n",
    "    \n",
    "    qubits_number = len(operator_string)\n",
    "\n",
    "    if operator_string[0] == 'I':\n",
    "        operator = I_np\n",
    "    elif operator_string[0] == 'X':\n",
    "        operator = X_np\n",
    "    elif operator_string[0] == 'Y':\n",
    "        operator = Y_np\n",
    "    elif operator_string[0] == 'Z':\n",
    "        operator = Z_np\n",
    "\n",
    "    for k in range(1, qubits_number):\n",
    "        if operator_string[k] == 'I':\n",
    "            operator = kron(operator, I_np)\n",
    "        elif operator_string[k] == 'X':\n",
    "            operator = kron(operator, X_np)\n",
    "        elif operator_string[k] == 'Y':\n",
    "            operator = kron(operator, Y_np)\n",
    "        elif operator_string[k] == 'Z':\n",
    "            operator = kron(operator, Z_np)\n",
    "            \n",
    "    return operator"
   ]
  },
  {
   "cell_type": "code",
   "execution_count": 9,
   "metadata": {},
   "outputs": [],
   "source": [
    "def hermitian_trotterizer(qreg, creg, hermitian_dict, t=1, reps=1, order=2, method='Trotter'):\n",
    "    \n",
    "    sum_op = []\n",
    "    for operator_string, multiplier in hermitian_dict.items():\n",
    "        sum_op.append(MatrixOp(t * multiplier * string_to_matrix(operator_string)))\n",
    "    sum_op = SummedOp(sum_op)\n",
    "    \n",
    "    if method == 'Trotter':\n",
    "        operator = Trotter(reps=reps).convert(sum_op)\n",
    "    if method == 'Suzuki':\n",
    "        operator = Suzuki(reps=reps, order=order).convert(sum_op) \n",
    "    \n",
    "    n_qubits = qreg.size\n",
    "    \n",
    "    circuit = QuantumCircuit(qreg, creg)\n",
    "    circuit.append(operator, [i for i in range(n_qubits)])\n",
    "    \n",
    "    return circuit"
   ]
  },
  {
   "cell_type": "code",
   "execution_count": 10,
   "metadata": {},
   "outputs": [],
   "source": [
    "def hermitian_evolution(qreg, creg, hermitian_dict, t=1):\n",
    "    \n",
    "    n_qubits = qreg.size\n",
    "    \n",
    "    circuit = QuantumCircuit(qreg, creg)\n",
    "    matrix = expm(-1j * t * hamiltonian_dictionary_to_matrix(hermitian_dict))\n",
    "    circuit.append(Operator(matrix), [i for i in range(n_qubits)])\n",
    "    \n",
    "    return circuit"
   ]
  },
  {
   "cell_type": "code",
   "execution_count": 11,
   "metadata": {},
   "outputs": [],
   "source": [
    "def uni_cost_2(n_qubits, state_tensor_network, shots, t=1, reps=1, order=2, method='Trotter', seed=None):\n",
    "    \n",
    "    qreg = QuantumRegister(n_qubits)\n",
    "    creg = ClassicalRegister(n_qubits)\n",
    "\n",
    "    ansatz = tensor_network_to_qiskit_circuit(n_qubits, state_tensor_network, qreg, creg)\n",
    "    ansatz_dg = (tensor_network_to_qiskit_circuit(n_qubits, state_tensor_network, qreg, creg)).inverse()\n",
    "    \n",
    "    u_circ_approx = hermitian_trotterizer(qreg, creg, hermitian_dict, t=t, reps=reps, order=order, method=method)\n",
    "    u_circ_exact = hermitian_evolution(qreg, creg, hermitian_dict, t=t)\n",
    "    \n",
    "    measurer = QuantumCircuit(qreg, creg)\n",
    "    for i in range(n_qubits):\n",
    "        measurer.measure(i, i)\n",
    "    \n",
    "    circuit_approx = ansatz + u_circ_approx + ansatz_dg + measurer\n",
    "    circuit_exact = ansatz + u_circ_exact + ansatz_dg + measurer\n",
    "    \n",
    "    job = execute([circuit_approx, circuit_exact], shots=shots, seed_simulator=seed, backend=Aer.get_backend('qasm_simulator'))   \n",
    "    result = job.result()\n",
    "    counts = result.get_counts()\n",
    "    \n",
    "    zeros_str = '0' * n_qubits\n",
    "    if zeros_str in counts[0].keys():\n",
    "        p0_approx = counts[0][zeros_str] / shots\n",
    "    else:\n",
    "        p0_approx = 0\n",
    "    if zeros_str in counts[1].keys():\n",
    "        p0_exact = counts[1][zeros_str] / shots\n",
    "    else:\n",
    "        p0_exact = 0\n",
    "    \n",
    "    return p0_approx, p0_exact"
   ]
  },
  {
   "cell_type": "code",
   "execution_count": 59,
   "metadata": {},
   "outputs": [
    {
     "data": {
      "text/plain": [
       "(0.058, 0.001)"
      ]
     },
     "execution_count": 59,
     "metadata": {},
     "output_type": "execute_result"
    }
   ],
   "source": [
    "n_qubits = 4\n",
    "n_layers = 3\n",
    "shots = 1000\n",
    "t = 1\n",
    "reps = 1\n",
    "order = 2\n",
    "method = 'Suzuki'\n",
    "\n",
    "hermitian_dict = ising_model(n_qubits, 1, 1)\n",
    "state_tensor_network = heas_ansatz_eff(n_qubits, n_layers)\n",
    "\n",
    "uni_cost_2(n_qubits, state_tensor_network, shots=shots, t=t, reps=reps, order=order, method=method, seed=None)"
   ]
  },
  {
   "cell_type": "code",
   "execution_count": 61,
   "metadata": {},
   "outputs": [
    {
     "data": {
      "image/png": "[encoded data removed]",
      "text/plain": [
       "<Figure size 504x288 with 1 Axes>"
      ]
     },
     "metadata": {
      "needs_background": "light"
     },
     "output_type": "display_data"
    }
   ],
   "source": [
    "n_qubits = 4\n",
    "n_layers = 3\n",
    "shots = 1000\n",
    "t = 1\n",
    "reps_list = [i for i in range(1, 10)]\n",
    "order = 2\n",
    "method = 'Trotter'\n",
    "\n",
    "hermitian_dict = ising_model(n_qubits, 1, 1)\n",
    "\n",
    "n_instances = 10\n",
    "seeds = random.sample(range(int(1e10)), n_instances)\n",
    "state_tensor_networks = [heas_ansatz_eff(n_qubits, n_layers) for i in range(n_instances)]\n",
    "\n",
    "difs = []\n",
    "for reps in reps_list:\n",
    "    difs_local = []\n",
    "    for i in range(n_instances):\n",
    "        p_approx, p_exact = uni_cost_2(n_qubits, state_tensor_networks[i], shots=shots, t=t, reps=reps, order=order, method=method, seed=seeds[i])\n",
    "        difs_local.append(abs(p_approx - p_exact))\n",
    "    difs.append(np.mean(difs_local))\n",
    "    \n",
    "plt.figure(figsize=(7, 4))\n",
    "plt.plot(reps_list, difs, label='$energy$', linewidth=2.5)\n",
    "plt.xlabel(r'$r$', fontsize=16)\n",
    "plt.ylabel(r'$\\delta$', fontsize=16)\n",
    "plt.show()"
   ]
  },
  {
   "cell_type": "code",
   "execution_count": 62,
   "metadata": {},
   "outputs": [
    {
     "data": {
      "image/png": "[encoded data removed]",
      "text/plain": [
       "<Figure size 504x288 with 1 Axes>"
      ]
     },
     "metadata": {
      "needs_background": "light"
     },
     "output_type": "display_data"
    }
   ],
   "source": [
    "n_qubits = 4\n",
    "n_layers = 3\n",
    "shots = 1000\n",
    "t = 1\n",
    "reps = 3\n",
    "order_list = [i for i in range(1, 6)]\n",
    "method = 'Suzuki'\n",
    "\n",
    "hermitian_dict = ising_model(n_qubits, 1, 1)\n",
    "\n",
    "n_instances = 30\n",
    "seeds = random.sample(range(int(1e10)), n_instances)\n",
    "state_tensor_networks = [heas_ansatz_eff(n_qubits, n_layers) for i in range(n_instances)]\n",
    "\n",
    "difs = []\n",
    "for order in order_list:\n",
    "    difs_local = []\n",
    "    for i in range(n_instances):\n",
    "        p_approx, p_exact = uni_cost_2(n_qubits, state_tensor_networks[i], shots=shots, t=t, reps=reps, order=order, method=method, seed=seeds[i])\n",
    "        difs_local.append(abs(p_approx - p_exact))\n",
    "    difs.append(np.mean(difs_local))\n",
    "    \n",
    "plt.figure(figsize=(7, 4))\n",
    "plt.plot(order_list, difs, label='$energy$', linewidth=2.5)\n",
    "plt.xlabel(r'$o$', fontsize=16)\n",
    "plt.ylabel(r'$\\delta$', fontsize=16)\n",
    "plt.show()"
   ]
  },
  {
   "cell_type": "markdown",
   "metadata": {},
   "source": [
    "# v3"
   ]
  },
  {
   "cell_type": "code",
   "execution_count": 133,
   "metadata": {},
   "outputs": [],
   "source": [
    "from qiskit.aqua.operators.primitive_ops import MatrixOp\n",
    "from qiskit.aqua.operators.evolutions import Suzuki, Trotter\n",
    "from qiskit.aqua.operators.list_ops import SummedOp"
   ]
  },
  {
   "cell_type": "code",
   "execution_count": 132,
   "metadata": {},
   "outputs": [],
   "source": [
    "def string_to_matrix(operator_string):\n",
    "    \n",
    "    qubits_number = len(operator_string)\n",
    "\n",
    "    if operator_string[0] == 'I':\n",
    "        operator = I_np\n",
    "    elif operator_string[0] == 'X':\n",
    "        operator = X_np\n",
    "    elif operator_string[0] == 'Y':\n",
    "        operator = Y_np\n",
    "    elif operator_string[0] == 'Z':\n",
    "        operator = Z_np\n",
    "\n",
    "    for k in range(1, qubits_number):\n",
    "        if operator_string[k] == 'I':\n",
    "            operator = kron(operator, I_np)\n",
    "        elif operator_string[k] == 'X':\n",
    "            operator = kron(operator, X_np)\n",
    "        elif operator_string[k] == 'Y':\n",
    "            operator = kron(operator, Y_np)\n",
    "        elif operator_string[k] == 'Z':\n",
    "            operator = kron(operator, Z_np)\n",
    "            \n",
    "    return operator"
   ]
  },
  {
   "cell_type": "code",
   "execution_count": 147,
   "metadata": {},
   "outputs": [],
   "source": [
    "def hermitian_trotterizer(qreg, creg, hermitian_dict, t=1, reps=1, order=2):\n",
    "    \n",
    "    sum_op = []\n",
    "    for operator_string, multiplier in hermitian_dict.items():\n",
    "        sum_op.append(MatrixOp(t * multiplier * string_to_matrix(operator_string)))\n",
    "    sum_op = SummedOp(sum_op)\n",
    "    \n",
    "    operator = Suzuki(reps=reps, order=order).convert(sum_op) \n",
    "    \n",
    "    n_qubits = qreg.size\n",
    "    \n",
    "    circuit = QuantumCircuit(qreg, creg)\n",
    "    circuit.append(operator, [i for i in range(n_qubits)])\n",
    "    \n",
    "    pass_ = Unroller(['u1', 'u2', 'u3', 'rzz', 'cx'])\n",
    "    pm = PassManager(pass_)\n",
    "    new_circ = pm.run(circuit)\n",
    "    new_circ = transpile(new_circ, optimization_level=3)\n",
    "    \n",
    "#     return circuit\n",
    "    return new_circ"
   ]
  },
  {
   "cell_type": "code",
   "execution_count": 148,
   "metadata": {},
   "outputs": [],
   "source": [
    "def hermitian_evolution(qreg, creg, hermitian_dict, t=1):\n",
    "    \n",
    "    n_qubits = qreg.size\n",
    "    \n",
    "    circuit = QuantumCircuit(qreg, creg)\n",
    "    matrix = expm(-1j * t * hamiltonian_dictionary_to_matrix(hermitian_dict))\n",
    "    circuit.append(Operator(matrix), [i for i in range(n_qubits)])\n",
    "    \n",
    "    return circuit"
   ]
  },
  {
   "cell_type": "code",
   "execution_count": 149,
   "metadata": {},
   "outputs": [],
   "source": [
    "def uni_cost_2(n_qubits, hermitian_dict, state_tensor_network, shots, t=1, reps=1, order=2, seed=None):\n",
    "    \n",
    "    qreg = QuantumRegister(n_qubits)\n",
    "    creg = ClassicalRegister(n_qubits)\n",
    "\n",
    "    ansatz = tensor_network_to_qiskit_circuit(n_qubits, state_tensor_network, qreg, creg)\n",
    "    ansatz_dg = (tensor_network_to_qiskit_circuit(n_qubits, state_tensor_network, qreg, creg)).inverse()\n",
    "    \n",
    "    u_circ_approx = hermitian_trotterizer(qreg, creg, hermitian_dict, t=t, reps=reps, order=order)\n",
    "    u_circ_exact = hermitian_evolution(qreg, creg, hermitian_dict, t=t)\n",
    "    \n",
    "    measurer = QuantumCircuit(qreg, creg)\n",
    "    for i in range(n_qubits):\n",
    "        measurer.measure(i, i)\n",
    "    \n",
    "    circuit_approx = ansatz + u_circ_approx + ansatz_dg + measurer\n",
    "    circuit_exact = ansatz + u_circ_exact + ansatz_dg + measurer\n",
    "    \n",
    "    job = execute([circuit_approx, circuit_exact], shots=shots, seed_simulator=seed, backend=Aer.get_backend('qasm_simulator'))   \n",
    "    result = job.result()\n",
    "    counts = result.get_counts()\n",
    "    \n",
    "    zeros_str = '0' * n_qubits\n",
    "    if zeros_str in counts[0].keys():\n",
    "        p0_approx = counts[0][zeros_str] / shots\n",
    "    else:\n",
    "        p0_approx = 0\n",
    "    if zeros_str in counts[1].keys():\n",
    "        p0_exact = counts[1][zeros_str] / shots\n",
    "    else:\n",
    "        p0_exact = 0\n",
    "    \n",
    "    return p0_approx, p0_exact"
   ]
  },
  {
   "cell_type": "code",
   "execution_count": 150,
   "metadata": {},
   "outputs": [
    {
     "data": {
      "text/plain": [
       "(0.01, 0.031)"
      ]
     },
     "execution_count": 150,
     "metadata": {},
     "output_type": "execute_result"
    }
   ],
   "source": [
    "n_qubits = 4\n",
    "n_layers = 3\n",
    "shots = 1000\n",
    "t = 1\n",
    "reps = 2\n",
    "order = 2\n",
    "\n",
    "hermitian_dict = ising_model(n_qubits, 1, 1)\n",
    "state_tensor_network = heas_ansatz_eff(n_qubits, n_layers)\n",
    "\n",
    "uni_cost_2(n_qubits, hermitian_dict, state_tensor_network, shots=shots, t=t, reps=reps, order=order, seed=None)"
   ]
  },
  {
   "cell_type": "code",
   "execution_count": 151,
   "metadata": {},
   "outputs": [
    {
     "data": {
      "image/png": "[encoded data removed]",
      "text/plain": [
       "<Figure size 504x288 with 1 Axes>"
      ]
     },
     "metadata": {
      "needs_background": "light"
     },
     "output_type": "display_data"
    }
   ],
   "source": [
    "n_qubits = 2\n",
    "n_layers = 1\n",
    "shots = 1000\n",
    "t = 1\n",
    "reps_list = [i for i in range(1, 6)]\n",
    "order_list = [i for i in range(1, 5)]\n",
    "\n",
    "hermitian_dict = ising_model(n_qubits, 1, 1)\n",
    "\n",
    "n_instances = 10\n",
    "seeds = random.sample(range(int(1e10)), n_instances)\n",
    "state_tensor_networks = [heas_ansatz_eff(n_qubits, n_layers) for i in range(n_instances)]\n",
    "\n",
    "difs_global = []\n",
    "for order in order_list:\n",
    "    difs = []\n",
    "    for reps in reps_list:\n",
    "        difs_local = []\n",
    "        for i in range(n_instances):\n",
    "            p_approx, p_exact = uni_cost_2(n_qubits, hermitian_dict, state_tensor_networks[i], shots=shots, t=t, reps=reps, order=order, seed=seeds[i])\n",
    "            difs_local.append(abs(p_approx - p_exact))\n",
    "        difs.append(np.mean(difs_local))\n",
    "    difs_global.append(difs)\n",
    "    \n",
    "plt.figure(figsize=(7, 4))\n",
    "for i in range(len(difs_global)):\n",
    "    plt.plot(reps_list, difs_global[i], label='order ' + str(order_list[i]), linewidth=2.5)\n",
    "plt.xlabel(r'reps', fontsize=16)\n",
    "plt.ylabel(r'$\\delta$', fontsize=16)\n",
    "plt.hlines(xmin=reps_list[0], xmax=reps_list[-1], y=0)\n",
    "plt.legend()\n",
    "plt.show()"
   ]
  },
  {
   "cell_type": "markdown",
   "metadata": {},
   "source": [
    "# Comparison"
   ]
  },
  {
   "cell_type": "code",
   "execution_count": 58,
   "metadata": {},
   "outputs": [],
   "source": [
    "def ising_unitary_trotter(qreg, creg, t, k, J=1, h=1):\n",
    "    \n",
    "    n_qubits = qreg.size\n",
    "    \n",
    "    T = 2 * t / k\n",
    "    \n",
    "    circuit = QuantumCircuit(qreg, creg)\n",
    "    \n",
    "    for i in range(k):\n",
    "        for j in range(n_qubits - 1):\n",
    "            circuit.rzz(J * T, j, j + 1)\n",
    "        if n_qubits > 2:\n",
    "            circuit.rzz(J * T, 0, n_qubits - 1)\n",
    "        for j in range(n_qubits):\n",
    "            circuit.rx(h * T, j)\n",
    "\n",
    "    return circuit"
   ]
  },
  {
   "cell_type": "code",
   "execution_count": 59,
   "metadata": {},
   "outputs": [],
   "source": [
    "def ising_unitary_exact(qreg, creg, t, J=1, h=1):\n",
    "    \n",
    "    n_qubits = qreg.size\n",
    "    \n",
    "    circuit = QuantumCircuit(qreg, creg)\n",
    "    matrix = expm(-1j * t * hamiltonian_dictionary_to_matrix(ising_model(n_qubits, J, h)))\n",
    "    circuit.append(Operator(matrix), [i for i in range(n_qubits)])\n",
    "    \n",
    "    return circuit"
   ]
  },
  {
   "cell_type": "code",
   "execution_count": 333,
   "metadata": {},
   "outputs": [],
   "source": [
    "def uni_cost(n_qubits, state_tensor_network, shots, t, k, J=1, h=1, seed=None):\n",
    "    \n",
    "    qreg = QuantumRegister(n_qubits)\n",
    "    creg = ClassicalRegister(n_qubits)\n",
    "\n",
    "    ansatz = tensor_network_to_qiskit_circuit(n_qubits, state_tensor_network, qreg, creg)\n",
    "    ansatz_dg = ansatz.inverse()#(tensor_network_to_qiskit_circuit(n_qubits, state_tensor_network, qreg, creg)).inverse()\n",
    "    \n",
    "    u_circ_approx = ising_unitary_trotter(qreg, creg, t, k, J=J, h=h)\n",
    "    u_circ_exact = ising_unitary_exact(qreg, creg, t, J=J, h=h) \n",
    "    \n",
    "    measurer = QuantumCircuit(qreg, creg)\n",
    "    for i in range(n_qubits):\n",
    "        measurer.measure(i, i)\n",
    "    \n",
    "    circuit_approx = ansatz + u_circ_approx + ansatz_dg + measurer\n",
    "    circuit_exact = ansatz + u_circ_exact + ansatz_dg\n",
    "    \n",
    "#     print('\\t uni gate count:', circuit_approx.size() - measurer.size())\n",
    "    \n",
    "    job = execute(circuit_approx, shots=shots, seed_simulator=seed, backend=Aer.get_backend('qasm_simulator'))   \n",
    "    result = job.result()\n",
    "    counts = result.get_counts()\n",
    "    \n",
    "    zeros_str = '0' * n_qubits\n",
    "    if zeros_str in counts.keys():\n",
    "        p0_approx = counts[zeros_str] / shots\n",
    "    else:\n",
    "        p0_approx = 0\n",
    "        \n",
    "    job = execute(circuit_exact, backend=Aer.get_backend('unitary_simulator'))   \n",
    "    result = job.result()\n",
    "    u = result.get_unitary()\n",
    "    \n",
    "    zerostate = np.array([1] + [0]*(2**n_qubits - 1))\n",
    "    p0_exact = abs( (zerostate.conj().T).dot(u).dot(zerostate) )**2\n",
    "    \n",
    "    return p0_approx, p0_exact"
   ]
  },
  {
   "cell_type": "code",
   "execution_count": 80,
   "metadata": {},
   "outputs": [],
   "source": [
    "def decompose_to_paulies(n_qubits, hermitian):\n",
    "    \n",
    "    d = 2**n_qubits\n",
    "    \n",
    "    hermitian_dict = {}\n",
    "    \n",
    "    paulies = ['I', 'X', 'Y', 'Z']\n",
    "    bases = list(product(*[paulies for i in range(n_qubits)]))\n",
    "    \n",
    "    for basis in bases:\n",
    "        observable = string_to_matrix(basis)\n",
    "        result = trace(hermitian.dot(observable)).real\n",
    "        \n",
    "        if result != 0:\n",
    "            label = ''.join(basis) # strange pythonic thing for concatinating chars in a list\n",
    "            hermitian_dict[label] = result / d\n",
    "    \n",
    "    return hermitian_dict"
   ]
  },
  {
   "cell_type": "code",
   "execution_count": 334,
   "metadata": {},
   "outputs": [],
   "source": [
    "def var_cost(n_qubits, hamiltonian_dict, hamiltonian_dict_sq, state_tensor_network, shots, t, J=1, h=1, seed=None):\n",
    "    \n",
    "    qreg = QuantumRegister(n_qubits)\n",
    "    creg = ClassicalRegister(n_qubits)\n",
    "    \n",
    "    \n",
    "#     hamiltonian_dict = ising_model(n_qubits, J, h)\n",
    "#     ham = hamiltonian_dictionary_to_matrix(ising_model(n_qubits, J, h))\n",
    "#     ham_sq = ham.dot(ham)\n",
    "#     hamiltonian_dict_sq = decompose_to_paulies(n_qubits, ham_sq)\n",
    "    \n",
    "    gate_count_1 = 0\n",
    "    \n",
    "    ansatz = tensor_network_to_qiskit_circuit(n_qubits, state_tensor_network, qreg, creg)\n",
    "    circuits = []\n",
    "    multipliers = []\n",
    "    for operator, multiplier in hamiltonian_dict.items():\n",
    "\n",
    "        circuit = QuantumCircuit(qreg, creg)\n",
    "        circuit = circuit + ansatz\n",
    "        gate_count_1 += circuit.size()\n",
    "\n",
    "        for j in range(n_qubits):\n",
    "            if operator[j] == 'X':\n",
    "                circuit.h(j)\n",
    "                gate_count_1 += 1\n",
    "            if operator[j] == 'Y':\n",
    "                circuit.s(j)\n",
    "                circuit.h(j)\n",
    "            if operator[j] != 'I':\n",
    "                circuit.measure(j, j)\n",
    "                \n",
    "        circuits.append(circuit)\n",
    "        multipliers.append(multiplier)\n",
    "#     print('\\t var gate count 1:', gate_count_1)\n",
    "    job = execute(circuits,\n",
    "                  backend=Aer.get_backend('qasm_simulator'),\n",
    "                  shots=shots)    \n",
    "    result = job.result()\n",
    "    counts = result.get_counts()\n",
    "    \n",
    "    L = len(multipliers)\n",
    "    h1 = 0\n",
    "    for l in range(L):\n",
    "        h1_local = 0\n",
    "        for key in counts[l].keys():\n",
    "            h1_local += counts[l][key] * (-1)**key.count('1') / shots\n",
    "        h1 += h1_local * multipliers[l]\n",
    "        \n",
    "    gate_count_2 = 0\n",
    "    circuits = []\n",
    "    multipliers = []\n",
    "    for operator, multiplier in hamiltonian_dict_sq.items():\n",
    "\n",
    "        circuit = QuantumCircuit(qreg, creg)\n",
    "        circuit = circuit + ansatz\n",
    "        gate_count_2 += circuit.size()\n",
    "\n",
    "        for j in range(n_qubits):\n",
    "            if operator[j] == 'X':\n",
    "                circuit.h(j)\n",
    "                gate_count_2 += 1\n",
    "            if operator[j] == 'Y':\n",
    "                circuit.s(j)\n",
    "                circuit.h(j)\n",
    "            if operator[j] != 'I':\n",
    "                circuit.measure(j, j)\n",
    "                \n",
    "        circuits.append(circuit)\n",
    "        multipliers.append(multiplier)\n",
    "#     print('\\t var gate count 2:', gate_count_2)\n",
    "    job = execute(circuits,\n",
    "                  backend=Aer.get_backend('qasm_simulator'),\n",
    "                  shots=shots)    \n",
    "    result = job.result()\n",
    "    counts = result.get_counts()\n",
    "    \n",
    "    L = len(multipliers)\n",
    "    h2 = 0\n",
    "    for l in range(L):\n",
    "        h2_local = 0\n",
    "        for key in counts[l].keys():\n",
    "            h2_local += counts[l][key] * (-1)**key.count('1') / shots\n",
    "        h2 += h2_local * multipliers[l]\n",
    "        \n",
    "    fun_value_approx = h2 - h1**2\n",
    "        \n",
    "#     print('\\t var gate count:', gate_count_1 + gate_count_2)\n",
    "#     print()\n",
    "        \n",
    "    #####\n",
    "        \n",
    "    circuit = QuantumCircuit(qreg, creg)\n",
    "    circuit = circuit + ansatz\n",
    "    job = execute(circuit,\n",
    "                  backend=Aer.get_backend('statevector_simulator'))    \n",
    "    statevector = job.result().get_statevector()\n",
    "    \n",
    "    fun_value_exact = ( statevector.conj().T.dot(ham_sq).dot(statevector) - (statevector.conj().T.dot(ham).dot(statevector))**2 ).real\n",
    "        \n",
    "    return fun_value_approx, fun_value_exact"
   ]
  },
  {
   "cell_type": "code",
   "execution_count": 233,
   "metadata": {},
   "outputs": [
    {
     "name": "stdout",
     "output_type": "stream",
     "text": [
      "\t var gate count: 45\n"
     ]
    },
    {
     "data": {
      "text/plain": [
       "(1.3111, 1.2915595610170418)"
      ]
     },
     "execution_count": 233,
     "metadata": {},
     "output_type": "execute_result"
    }
   ],
   "source": [
    "n_qubits = 2\n",
    "n_layers = 1\n",
    "t = 1\n",
    "J = 1\n",
    "h = 1\n",
    "shots = 1000\n",
    "\n",
    "hermitian_dict = ising_model(n_qubits, J, h)\n",
    "ham = hamiltonian_dictionary_to_matrix(hermitian_dict)\n",
    "ham_sq = ham.dot(ham)\n",
    "hermitian_dict_sq = decompose_to_paulies(n_qubits, ham_sq)\n",
    "\n",
    "state_tensor_network = heas_ansatz_eff(n_qubits, n_layers)\n",
    "\n",
    "var_cost(n_qubits, hermitian_dict, hermitian_dict_sq, state_tensor_network, shots, t, J=J, h=h, seed=None)"
   ]
  },
  {
   "cell_type": "code",
   "execution_count": 230,
   "metadata": {},
   "outputs": [
    {
     "name": "stdout",
     "output_type": "stream",
     "text": [
      "var gate count: 3830\n",
      "uni gate count: 215\n",
      "var gate count: 3830\n",
      "uni gate count: 215\n"
     ]
    },
    {
     "data": {
      "image/png": "[encoded data removed]",
      "text/plain": [
       "<Figure size 432x288 with 1 Axes>"
      ]
     },
     "metadata": {
      "needs_background": "light"
     },
     "output_type": "display_data"
    }
   ],
   "source": [
    "n_qubits = 5\n",
    "n_layers = 4\n",
    "J = 1\n",
    "h = 1\n",
    "shots = 1000\n",
    "t = 1\n",
    "k = 5\n",
    "\n",
    "hermitian_dict = ising_model(n_qubits, J, h)\n",
    "ham = hamiltonian_dictionary_to_matrix(hermitian_dict)\n",
    "ham_sq = ham.dot(ham)\n",
    "hermitian_dict_sq = decompose_to_paulies(n_qubits, ham_sq)\n",
    "\n",
    "n_instances = 2\n",
    "seeds = random.sample(range(int(1e10)), n_instances)\n",
    "state_tensor_networks = [heas_ansatz_eff(n_qubits, n_layers) for i in range(n_instances)]\n",
    "\n",
    "var_difs = []\n",
    "uni_difs = []\n",
    "for i in range(n_instances):\n",
    "    var_val_approx, var_val_exact = var_cost(n_qubits, hermitian_dict, hermitian_dict_sq, state_tensor_networks[i], shots, t=t, J=J, h=h, seed=seeds[i])\n",
    "    uni_val_approx, uni_val_exact = uni_cost(n_qubits, state_tensor_networks[i], shots, t=t, k=k, J=J, h=h, seed=seeds[i])\n",
    "    var_difs.append(abs(var_val_approx - var_val_exact))# / 39.86345818680678)\n",
    "    uni_difs.append(abs(uni_val_approx - uni_val_exact))\n",
    "var_dif = np.mean(var_difs)\n",
    "uni_dif = np.mean(uni_difs)\n",
    "var_dis = np.var(var_difs)\n",
    "uni_dis = np.var(uni_difs)\n",
    "\n",
    "x = [0, 1]\n",
    "y = [var_dif, uni_dif]\n",
    "plt.bar(x, y, align='center', alpha=0.5)\n",
    "plt.xticks(x, ['var', 'uni'])\n",
    "plt.ylabel(r'$\\delta$')\n",
    "plt.show()"
   ]
  },
  {
   "cell_type": "code",
   "execution_count": 345,
   "metadata": {},
   "outputs": [],
   "source": [
    "from scipy.stats import sem\n",
    "\n",
    "from matplotlib import rc, gridspec\n",
    "matplotlib.rc('font', family='CMU Serif')\n",
    "matplotlib.rcParams['mathtext.fontset'] = 'cm' \n",
    "matplotlib.rcParams['axes.unicode_minus'] = False"
   ]
  },
  {
   "cell_type": "code",
   "execution_count": 375,
   "metadata": {},
   "outputs": [
    {
     "name": "stdout",
     "output_type": "stream",
     "text": [
      "1\n",
      "2\n",
      "3\n",
      "4\n",
      "5\n",
      "6\n",
      "7\n",
      "8\n",
      "9\n",
      "10\n"
     ]
    }
   ],
   "source": [
    "n_qubits = 5\n",
    "n_layers = 4\n",
    "J = 1\n",
    "h = 1\n",
    "shots = 1000\n",
    "t = 1\n",
    "ks = [i for i in range(1, 11)]\n",
    "\n",
    "hermitian_dict = ising_model(n_qubits, J, h)\n",
    "ham = hamiltonian_dictionary_to_matrix(hermitian_dict)\n",
    "ham_sq = ham.dot(ham)\n",
    "hermitian_dict_sq = decompose_to_paulies(n_qubits, ham_sq)\n",
    "\n",
    "n_instances = 300\n",
    "seeds = random.sample(range(int(1e10)), n_instances)\n",
    "state_tensor_networks = [hea_ansatz_eff(n_qubits, n_layers) for i in range(n_instances)]\n",
    "\n",
    "\n",
    "x0 = [random.uniform(0, 2*pi) for i in range(2**(n_qubits + 1))]\n",
    "args = (ham)\n",
    "method = 'BFGS'\n",
    "res = minimize(fun, x0, args, method)\n",
    "normalizer = abs(res.fun)\n",
    "\n",
    "\n",
    "var_difs = []\n",
    "for i in range(n_instances):\n",
    "    var_val_approx, var_val_exact = var_cost(n_qubits, hermitian_dict, hermitian_dict_sq, state_tensor_networks[i], shots, t=t, J=J, h=h, seed=seeds[i])\n",
    "    var_difs.append(abs(var_val_approx - var_val_exact) / normalizer)\n",
    "var_std = sem(var_difs)\n",
    "var_dis = np.var(var_difs)\n",
    "var_dif = np.mean(var_difs) \n",
    "\n",
    "\n",
    "uni_difs_k = []\n",
    "uni_diss_k = []\n",
    "uni_stds_k = []\n",
    "for k in ks:\n",
    "    print(k)\n",
    "    uni_difs = []\n",
    "    for i in range(n_instances):\n",
    "        uni_val_approx, uni_val_exact = uni_cost(n_qubits, state_tensor_networks[i], shots, t=t, k=k, J=J, h=h, seed=seeds[i])\n",
    "        uni_difs.append(abs(uni_val_approx - uni_val_exact))\n",
    "    uni_difs_k.append(np.mean(uni_difs))\n",
    "    uni_diss_k.append(np.var(uni_difs))\n",
    "    uni_stds_k.append(sem(uni_difs))"
   ]
  },
  {
   "cell_type": "code",
   "execution_count": 379,
   "metadata": {},
   "outputs": [
    {
     "data": {
      "image/png": "[encoded data removed]",
      "text/plain": [
       "<Figure size 576x288 with 1 Axes>"
      ]
     },
     "metadata": {
      "needs_background": "light"
     },
     "output_type": "display_data"
    }
   ],
   "source": [
    "dif = (ks[1] - ks[0]) / 10\n",
    "l = len(ks)\n",
    "\n",
    "plt.figure(figsize=(8, 4))\n",
    "plt.errorbar(np.array(ks) + dif, uni_difs_k, yerr=uni_stds_k, color='tab:blue', label=r'$F_Q$', fmt='o-', capsize=5, linewidth=1, markersize=5)\n",
    "plt.errorbar(np.array(ks) - dif, [var_dif]*l, yerr=[var_std]*l, color='tab:red', label=r'$F_H$', fmt='o-', capsize=5, linewidth=1, markersize=5)\n",
    "plt.hlines(y=0, xmin=ks[0]-0.3, xmax=ks[-1]+0.3, colors='black', linestyles='solid')\n",
    "plt.legend(fontsize=16)\n",
    "plt.grid()\n",
    "plt.xlim(ks[0]-0.3, ks[-1]+0.3)\n",
    "plt.xticks(ks, fontsize=16)\n",
    "plt.yticks(fontsize=16)\n",
    "plt.xlabel(r'$r$', fontsize=16)\n",
    "plt.ylabel(r'$\\delta$', fontsize=16)\n",
    "plt.savefig(str(n_qubits) + 'q-' + str(n_instances) + 'n' + '-delta_k.png', bbox_inches='tight')\n",
    "plt.savefig(str(n_qubits) + 'q-' + str(n_instances) + 'n' + '-delta_k.pdf', bbox_inches='tight')\n",
    "plt.show()"
   ]
  }
 ],
 "metadata": {
  "kernelspec": {
   "display_name": "Python 3",
   "language": "python",
   "name": "python3"
  },
  "language_info": {
   "codemirror_mode": {
    "name": "ipython",
    "version": 3
   },
   "file_extension": ".py",
   "mimetype": "text/x-python",
   "name": "python",
   "nbconvert_exporter": "python",
   "pygments_lexer": "ipython3",
   "version": "3.7.4"
  }
 },
 "nbformat": 4,
 "nbformat_minor": 4
}
