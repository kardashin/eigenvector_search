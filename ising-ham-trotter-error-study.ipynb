{
 "cells": [
  {
   "cell_type": "code",
   "execution_count": 1,
   "metadata": {},
   "outputs": [],
   "source": [
    "import numpy as np\n",
    "from numpy import trace, dot, pi, exp\n",
    "\n",
    "from scipy.stats import sem\n",
    "from scipy.linalg import norm, expm, kron\n",
    "from scipy.optimize import minimize\n",
    "\n",
    "from functools import reduce\n",
    "from itertools import product\n",
    "\n",
    "import random\n",
    "\n",
    "from qiskit import Aer, QuantumCircuit, QuantumRegister, ClassicalRegister, execute\n",
    "from qiskit.quantum_info import Operator\n",
    "\n",
    "import matplotlib.pyplot as plt"
   ]
  },
  {
   "cell_type": "code",
   "execution_count": 2,
   "metadata": {},
   "outputs": [],
   "source": [
    "s0 = np.array([1, 0]) # |0>\n",
    "s1 = np.array([0, 1]) # |1>\n",
    "P_0 = np.array([[1,0],[0,0]]) # |0><0|\n",
    "P_1 = np.array([[0,0],[0,1]]) # |1><1|\n",
    "X_np = np.array([[0.,1.],\n",
    "                 [1.,0.]]) # X Pauli matrix\n",
    "Y_np = np.array([[0.,-1.j],\n",
    "                 [1.j, 0.]]) # Y Pauli matrix\n",
    "Z_np = np.array([[1., 0.],\n",
    "                 [0.,-1.]]) # Z Pauli matrix\n",
    "I_np = np.array([[1.,0.],\n",
    "                 [0.,1.]]) # 2x2 identity matrix\n",
    "H_np = (X_np + Z_np)/np.sqrt(2) # Hadamard gate\n",
    "S_np = np.array([[1.,0. ],\n",
    "                 [0.,1.j]]) # phase gate\n",
    "T_np = np.array([[1.,0. ],\n",
    "                 [0.,exp(1j*pi/4)]]) # phase gate"
   ]
  },
  {
   "cell_type": "code",
   "execution_count": 3,
   "metadata": {},
   "outputs": [],
   "source": [
    "def ising_model_dict(qubits_number, J, hx):\n",
    "    '''\n",
    "    returns a Hamiltonian represented as a dictionary\n",
    "    example: {'ZZ': -1, 'XI': 0.5, 'IX': 0.5}\n",
    "    '''\n",
    "\n",
    "    ham = {}\n",
    "\n",
    "    line = 'Z' + 'Z' + 'I' * (qubits_number - 2)\n",
    "    for i in range(qubits_number):\n",
    "        term = line[-i:] + line[:-i]\n",
    "        ham[term] = J\n",
    "        \n",
    "    line = 'X' + 'I' * (qubits_number - 1)\n",
    "    if hx != 0:\n",
    "        for i in range(qubits_number):\n",
    "            term = line[-i:] + line[:-i]\n",
    "            ham[term] = hx\n",
    "\n",
    "    return ham"
   ]
  },
  {
   "cell_type": "code",
   "execution_count": 4,
   "metadata": {},
   "outputs": [],
   "source": [
    "def string_to_matrix(operator_string):\n",
    "    \n",
    "    qubits_number = len(operator_string)\n",
    "\n",
    "    if operator_string[0] == 'I':\n",
    "        operator = I_np\n",
    "    elif operator_string[0] == 'X':\n",
    "        operator = X_np\n",
    "    elif operator_string[0] == 'Y':\n",
    "        operator = Y_np\n",
    "    elif operator_string[0] == 'Z':\n",
    "        operator = Z_np\n",
    "\n",
    "    for k in range(1, qubits_number):\n",
    "        if operator_string[k] == 'I':\n",
    "            operator = kron(operator, I_np)\n",
    "        elif operator_string[k] == 'X':\n",
    "            operator = kron(operator, X_np)\n",
    "        elif operator_string[k] == 'Y':\n",
    "            operator = kron(operator, Y_np)\n",
    "        elif operator_string[k] == 'Z':\n",
    "            operator = kron(operator, Z_np)\n",
    "            \n",
    "    return operator\n",
    "\n",
    "\n",
    "def hamiltonian_matrix_to_dict(n_qubits, hermitian_matrix):\n",
    "    \n",
    "    d = 2**n_qubits\n",
    "        \n",
    "    paulies = ['I', 'X', 'Y', 'Z']\n",
    "    bases = list(product(*[paulies for i in range(n_qubits)]))\n",
    "    \n",
    "    hermitian_dict = {}\n",
    "    for basis in bases:\n",
    "        observable = string_to_matrix(basis)\n",
    "        result = trace(hermitian_matrix.dot(observable)).real\n",
    "        \n",
    "        if result != 0:\n",
    "            label = ''.join(basis) # pythonic hacks for concatinating chars in a list\n",
    "            hermitian_dict[label] = result / d\n",
    "    \n",
    "    return hermitian_dict\n",
    "\n",
    "\n",
    "def hamiltonian_dict_to_matrix(hamiltonian_dictionary):\n",
    "    '''\n",
    "    transforms a Hamiltonian dictionary into the NumPy matrix\n",
    "    '''\n",
    "\n",
    "    hamiltonian_m = 0\n",
    "\n",
    "    for operator, multiplier in hamiltonian_dictionary.items():\n",
    "\n",
    "        hamiltonian_term = [] \n",
    "        for op in operator:\n",
    "            if op == 'I':\n",
    "                hamiltonian_term.append(I_np)\n",
    "            elif op == 'X':\n",
    "                hamiltonian_term.append(X_np)\n",
    "            elif op == 'Y':\n",
    "                hamiltonian_term.append(Y_np)\n",
    "            elif op == 'Z':\n",
    "                hamiltonian_term.append(Z_np)\n",
    "            \n",
    "        hamiltonian_m = hamiltonian_m + multiplier*reduce(kron, hamiltonian_term)\n",
    "\n",
    "    return hamiltonian_m"
   ]
  },
  {
   "cell_type": "code",
   "execution_count": 5,
   "metadata": {},
   "outputs": [],
   "source": [
    "def hea(qreg, creg, n_layers, pars):\n",
    "  # generates a circuit for the hardware-efficient ansatz\n",
    "    \n",
    "    circuit = QuantumCircuit(qreg, creg)\n",
    "    shift = 0\n",
    "    for l in range(n_layers):\n",
    "        for q in range(n_qubits):\n",
    "            circuit.rx(pars[3*q+shift], q)\n",
    "            circuit.rz(pars[3*q+shift+1], q)\n",
    "            circuit.rx(pars[3*q+shift+2], q)\n",
    "        shift += 3*n_qubits\n",
    "        if n_qubits > 1:\n",
    "            for q in range(n_qubits - 1):\n",
    "                circuit.cry(pars[q+shift], q, q+1)\n",
    "            circuit.cry(pars[q+shift+1], n_qubits-1, 0)\n",
    "        shift += n_qubits\n",
    "        circuit.barrier()\n",
    "        \n",
    "    return circuit"
   ]
  },
  {
   "cell_type": "markdown",
   "metadata": {
    "tags": []
   },
   "source": [
    "### Constructors of the exact and approximated unitary evolutions of the Ising Hamiltonian"
   ]
  },
  {
   "cell_type": "code",
   "execution_count": 6,
   "metadata": {},
   "outputs": [],
   "source": [
    "def ising_unitary_trotter(qreg, creg, t, k, J, h):\n",
    "  # returns the k-step Trotter decomposition of the Ising Hamiltonian with the coupling strength J, transverse field h and simulation time t\n",
    "    \n",
    "    n_qubits = qreg.size\n",
    "    \n",
    "    T = 2*t / k # multiplied by two because of the definition of rotation gates in qiskit: R_A(x) = e^(-i*A*x/2)\n",
    "    \n",
    "    circuit = QuantumCircuit(qreg, creg)\n",
    "    for i in range(k):\n",
    "        for j in range(n_qubits - 1):\n",
    "            circuit.rzz(J * T, j, j + 1)\n",
    "        if n_qubits > 2:\n",
    "            circuit.rzz(J * T, 0, n_qubits - 1)\n",
    "        for j in range(n_qubits):\n",
    "            circuit.rx(h * T, j)\n",
    "\n",
    "    return circuit"
   ]
  },
  {
   "cell_type": "code",
   "execution_count": 7,
   "metadata": {},
   "outputs": [],
   "source": [
    "def ising_unitary_exact(qreg, creg, t, J, h):\n",
    "  # returns the exact unitary evolution of the Ising Hamiltonian with the coupling strength J, transverse field h and simulation time t\n",
    "    \n",
    "    n_qubits = qreg.size\n",
    "    \n",
    "    circuit = QuantumCircuit(qreg, creg)\n",
    "    matrix = expm(-1j * t * hamiltonian_dict_to_matrix(ising_model_dict(n_qubits, J, h)))\n",
    "    circuit.append(Operator(matrix), [i for i in range(n_qubits)])\n",
    "    \n",
    "    return circuit"
   ]
  },
  {
   "cell_type": "markdown",
   "metadata": {},
   "source": [
    "#### Test: Hilbert-Schmitd distance between the approximate and the exact"
   ]
  },
  {
   "cell_type": "code",
   "execution_count": 8,
   "metadata": {},
   "outputs": [],
   "source": [
    "def hs_distance(U, V):\n",
    "  # Hilbert-Schmidt distance\n",
    "    d = len(U)\n",
    "    return 1 - abs(trace(dot(U, V.conj()))) / d"
   ]
  },
  {
   "cell_type": "code",
   "execution_count": 9,
   "metadata": {},
   "outputs": [
    {
     "data": {
      "image/png": "[encoded data removed]",
      "text/plain": [
       "<Figure size 432x288 with 1 Axes>"
      ]
     },
     "metadata": {
      "needs_background": "light"
     },
     "output_type": "display_data"
    }
   ],
   "source": [
    "n_qubits = 6\n",
    "qreg = QuantumRegister(n_qubits)\n",
    "creg = ClassicalRegister(n_qubits)\n",
    "\n",
    "t = 1\n",
    "J = 1\n",
    "h = 1\n",
    "ks = [i for i in range(1, 11)]\n",
    "\n",
    "hs_distances = []\n",
    "for k in ks:\n",
    "    circuit_approx = ising_unitary_trotter(qreg, creg, t, k, J, h)\n",
    "    circuit_exact = ising_unitary_exact(qreg, creg, t, J, h)\n",
    "    U = execute(circuit_approx, backend=Aer.get_backend('unitary_simulator')).result().get_unitary()\n",
    "    V = execute(circuit_exact, backend=Aer.get_backend('unitary_simulator')).result().get_unitary()\n",
    "    hs_distances.append(hs_distance(U, V))\n",
    "    \n",
    "plt.plot(ks, hs_distances, color='green', marker='o')\n",
    "plt.plot(ks, [0]*len(ks), color='black', linestyle='--')\n",
    "plt.xlabel(r'Trotter steps $r$')\n",
    "plt.ylabel('Hilbert-Schmidt distance')\n",
    "plt.show()"
   ]
  },
  {
   "cell_type": "markdown",
   "metadata": {},
   "source": [
    "### $F_H$ and $F_Q$ cost functions"
   ]
  },
  {
   "cell_type": "code",
   "execution_count": 10,
   "metadata": {},
   "outputs": [],
   "source": [
    "def uni_cost(n_qubits, n_layers, x0, shots, t, k, J, h, seed_simulator=None):\n",
    "  # calculates the apporximate and exact values of the cost function F_Q\n",
    "    \n",
    "    qreg = QuantumRegister(n_qubits)\n",
    "    creg = ClassicalRegister(n_qubits)\n",
    "        \n",
    "    ansatz = hea(qreg, creg, n_layers, x0)\n",
    "    ansatz_dg = ansatz.inverse()\n",
    "    \n",
    "    u_circ_approx = ising_unitary_trotter(qreg, creg, t, k, J, h)\n",
    "    u_circ_exact = ising_unitary_exact(qreg, creg, t, J, h) \n",
    "    \n",
    "    measurer = QuantumCircuit(qreg, creg)\n",
    "    for i in range(n_qubits):\n",
    "        measurer.measure(i, i)\n",
    "    \n",
    "    circuit_approx = ansatz + u_circ_approx + ansatz_dg + measurer\n",
    "    circuit_exact = ansatz + u_circ_exact + ansatz_dg\n",
    "    \n",
    "    job = execute(circuit_approx, shots=shots, seed_simulator=seed_simulator, backend=Aer.get_backend('qasm_simulator'))   \n",
    "    result = job.result()\n",
    "    counts = result.get_counts()\n",
    "    \n",
    "    zeros_str = '0' * n_qubits\n",
    "    if zeros_str in counts.keys():\n",
    "        p0_approx = counts[zeros_str] / shots\n",
    "    else:\n",
    "        p0_approx = 0\n",
    "        \n",
    "    job = execute(circuit_exact, backend=Aer.get_backend('unitary_simulator'))   \n",
    "    result = job.result()\n",
    "    u = result.get_unitary()\n",
    "    \n",
    "    zerostate = np.array([1] + [0]*(2**n_qubits - 1))\n",
    "    p0_exact = abs( (zerostate.conj().T).dot(u).dot(zerostate) )**2\n",
    "    \n",
    "    gate_count = ansatz.size() + u_circ_approx.size() + ansatz_dg.size() # excluding measurements\n",
    "    \n",
    "    return p0_approx, p0_exact, gate_count"
   ]
  },
  {
   "cell_type": "code",
   "execution_count": 11,
   "metadata": {},
   "outputs": [],
   "source": [
    "def var_cost(n_qubits, n_layers, x0, hamiltonian_dict, hamiltonian_dict_sq, shots, t, J=1, h=1, seed_simulator=None):\n",
    "  # calculates the apporximate and exact values of the cost function F_H\n",
    "    \n",
    "    qreg = QuantumRegister(n_qubits)\n",
    "    creg = ClassicalRegister(n_qubits)\n",
    "    \n",
    "    ansatz = hea(qreg, creg, n_layers, x0) \n",
    "    \n",
    "    gate_count_1 = 0\n",
    "    \n",
    "    \n",
    "  # calculate <H>^2 \n",
    "\n",
    "    circuits = []\n",
    "    multipliers = []\n",
    "    for operator, multiplier in hamiltonian_dict.items():\n",
    "\n",
    "        circuit = QuantumCircuit(qreg, creg)\n",
    "        circuit = circuit + ansatz\n",
    "\n",
    "        gate_count_1 += circuit.size()\n",
    "        \n",
    "        for j in range(n_qubits):\n",
    "            if operator[j] == 'X':\n",
    "                circuit.h(j)\n",
    "                gate_count_1 += 1\n",
    "            if operator[j] == 'Y':\n",
    "                circuit.s(j)\n",
    "                circuit.h(j)\n",
    "            if operator[j] != 'I':\n",
    "                circuit.measure(j, j)\n",
    "                \n",
    "        circuits.append(circuit)\n",
    "        multipliers.append(multiplier)\n",
    "\n",
    "    job = execute(circuits,\n",
    "                  backend=Aer.get_backend('qasm_simulator'),\n",
    "                  shots=shots,\n",
    "                  seed_simulator=seed_simulator)    \n",
    "    result = job.result()\n",
    "    counts = result.get_counts()\n",
    "    \n",
    "    L = len(multipliers)\n",
    "    h1 = 0\n",
    "    for l in range(L):\n",
    "        h1_local = 0\n",
    "        for key in counts[l].keys():\n",
    "            h1_local += counts[l][key] * (-1)**key.count('1') / shots\n",
    "        h1 += h1_local * multipliers[l]\n",
    "        \n",
    "\n",
    "  # calculate <H^2>        \n",
    "\n",
    "    gate_count_2 = 0\n",
    "    circuits = []\n",
    "    multipliers = []\n",
    "    for operator, multiplier in hamiltonian_dict_sq.items():\n",
    "\n",
    "        circuit = QuantumCircuit(qreg, creg)\n",
    "        circuit = circuit + ansatz\n",
    "        gate_count_2 += circuit.size()\n",
    "\n",
    "        for j in range(n_qubits):\n",
    "            if operator[j] == 'X':\n",
    "                circuit.h(j)\n",
    "                gate_count_2 += 1\n",
    "            if operator[j] == 'Y':\n",
    "                circuit.s(j)\n",
    "                circuit.h(j)\n",
    "            if operator[j] != 'I':\n",
    "                circuit.measure(j, j)\n",
    "                \n",
    "        circuits.append(circuit)\n",
    "        multipliers.append(multiplier)\n",
    "        \n",
    "    job = execute(circuits,\n",
    "                  backend=Aer.get_backend('qasm_simulator'),\n",
    "                  shots=shots,\n",
    "                  seed_simulator=seed_simulator)    \n",
    "    result = job.result()\n",
    "    counts = result.get_counts()\n",
    "    \n",
    "    L = len(multipliers)\n",
    "    h2 = 0\n",
    "    for l in range(L):\n",
    "        h2_local = 0\n",
    "        for key in counts[l].keys():\n",
    "            h2_local += counts[l][key] * (-1)**key.count('1') / shots\n",
    "        h2 += h2_local * multipliers[l]\n",
    "        \n",
    "        \n",
    "    # calculate approximate (<H^2> - <H>^2)\n",
    "    fun_value_approx = h2 - h1**2\n",
    "       \n",
    "    # calculate exact (<H^2> - <H>^2)\n",
    "    circuit = QuantumCircuit(qreg, creg)\n",
    "    circuit = circuit + ansatz\n",
    "    job = execute(circuit,\n",
    "                  backend=Aer.get_backend('statevector_simulator'))    \n",
    "    statevector = job.result().get_statevector()\n",
    "    fun_value_exact = ( statevector.conj().T.dot(ham_sq).dot(statevector) - (statevector.conj().T.dot(ham).dot(statevector))**2 ).real\n",
    "        \n",
    "    gate_count = gate_count_1 + gate_count_2    \n",
    "        \n",
    "    return fun_value_approx, fun_value_exact, gate_count"
   ]
  },
  {
   "cell_type": "markdown",
   "metadata": {},
   "source": [
    "### Compare $F_H$ and $F_Q$"
   ]
  },
  {
   "cell_type": "code",
   "execution_count": 12,
   "metadata": {},
   "outputs": [],
   "source": [
    "n_qubits = 5\n",
    "n_layers = 4\n",
    "\n",
    "# Hamiltonian and unitary evolution parameters\n",
    "J = 1\n",
    "h = 1\n",
    "t = 1\n",
    "\n",
    "shots = 1000 # number of measurements per circuit\n",
    "ks = [i for i in range(1, 11)] # list of Trotter steps number\n",
    "\n",
    "n_instances = 10 # number of instances to average over\n",
    "seeds = random.sample(range(int(1e10)), n_instances) # simulator seeds for each instance\n",
    "n_pars = 4 * n_qubits * n_layers # number of parameters in HEA\n",
    "x0s = [[random.uniform(-4*pi, 4*pi) for j in range(n_pars)] for i in range(n_instances)] # initial ansatz parameters for each instance"
   ]
  },
  {
   "cell_type": "markdown",
   "metadata": {},
   "source": [
    "#### Calculate the maximum possible value of $F_H$ by maximization with a cheaty ansatz"
   ]
  },
  {
   "cell_type": "markdown",
   "metadata": {},
   "source": [
    "The anzatz is the vector with the components of the form $r_j e^{\\imath \\phi_j}$"
   ]
  },
  {
   "cell_type": "code",
   "execution_count": 13,
   "metadata": {},
   "outputs": [],
   "source": [
    "def constrvec(parameters):\n",
    "    state_vector = []\n",
    "    for i in range(int(len(parameters)/2)):\n",
    "        state_vector.append(parameters[2*i]*np.exp(1j*parameters[2*i+1]))\n",
    "    return np.array(state_vector) / np.linalg.norm(state_vector)"
   ]
  },
  {
   "cell_type": "markdown",
   "metadata": {},
   "source": [
    "This function returns $-F_H$"
   ]
  },
  {
   "cell_type": "code",
   "execution_count": 14,
   "metadata": {},
   "outputs": [],
   "source": [
    "def maxvar(parameters, ham):\n",
    "    statevector = constrvec(parameters)\n",
    "    t1 = statevector.conj().T.dot(ham).dot(ham).dot(statevector)\n",
    "    t2 = (statevector.conj().T.dot(ham).dot(statevector))**2\n",
    "    return -(t1 - t2).real"
   ]
  },
  {
   "cell_type": "code",
   "execution_count": 15,
   "metadata": {},
   "outputs": [
    {
     "name": "stdout",
     "output_type": "stream",
     "text": [
      "F_H maximal: 39.86345818809669\n"
     ]
    }
   ],
   "source": [
    "hermitian_dict = ising_model_dict(n_qubits, J, h)\n",
    "ham = hamiltonian_dict_to_matrix(hermitian_dict)\n",
    "ham_sq = ham.dot(ham)\n",
    "hermitian_dict_sq = hamiltonian_matrix_to_dict(n_qubits, ham_sq)\n",
    "\n",
    "x0 = [random.uniform(0, 2*pi) for i in range(2**(n_qubits + 1))]\n",
    "res = minimize(maxvar, x0, args=(ham), method='BFGS')\n",
    "\n",
    "# this quantity is the maximal possible value of F_H and is used for normalization of plots\n",
    "normalizer = abs(res.fun)\n",
    "print('F_H maximal:', normalizer)"
   ]
  },
  {
   "cell_type": "markdown",
   "metadata": {},
   "source": [
    "#### Calculate averaged approximate $F_H$"
   ]
  },
  {
   "cell_type": "code",
   "execution_count": 16,
   "metadata": {},
   "outputs": [
    {
     "name": "stderr",
     "output_type": "stream",
     "text": [
      "C:\\Users\\kardashin\\anaconda3\\lib\\site-packages\\ipykernel_launcher.py:19: DeprecationWarning: The QuantumCircuit.__add__() method is being deprecated.Use the compose() method which is more flexible w.r.t circuit register compatibility.\n",
      "C:\\Users\\kardashin\\anaconda3\\lib\\site-packages\\qiskit\\circuit\\quantumcircuit.py:933: DeprecationWarning: The QuantumCircuit.combine() method is being deprecated. Use the compose() method which is more flexible w.r.t circuit register compatibility.\n",
      "  return self.combine(rhs)\n"
     ]
    }
   ],
   "source": [
    "var_difs = []\n",
    "for i in range(n_instances):\n",
    "    var_val_approx, var_val_exact, var_gate_count = var_cost(n_qubits, n_layers, x0s[i], hermitian_dict, hermitian_dict_sq, shots, t=t, J=J, h=h, seed_simulator=seeds[i])\n",
    "    var_difs.append(abs(var_val_approx - var_val_exact) / normalizer)\n",
    "var_std = sem(var_difs)\n",
    "var_dis = np.var(var_difs)\n",
    "var_dif = np.mean(var_difs) "
   ]
  },
  {
   "cell_type": "markdown",
   "metadata": {},
   "source": [
    "#### Calculate averaged approximate $F_Q$ for each Trotter step $r$"
   ]
  },
  {
   "cell_type": "code",
   "execution_count": 17,
   "metadata": {},
   "outputs": [
    {
     "name": "stdout",
     "output_type": "stream",
     "text": [
      "k: 10\r"
     ]
    }
   ],
   "source": [
    "uni_difs_k = []\n",
    "uni_diss_k = []\n",
    "uni_stds_k = []\n",
    "uni_gate_counts = []\n",
    "for k in ks:\n",
    "    print('k:', k, end='\\r')\n",
    "    uni_difs = []\n",
    "    for i in range(n_instances):\n",
    "        uni_val_approx, uni_val_exact, uni_gate_count = uni_cost(n_qubits, n_layers, x0s[i], shots, t=t, k=k, J=J, h=h, seed_simulator=seeds[i])\n",
    "        uni_difs.append(abs(uni_val_approx - uni_val_exact))\n",
    "    uni_difs_k.append(np.mean(uni_difs))\n",
    "    uni_diss_k.append(np.var(uni_difs))\n",
    "    uni_stds_k.append(sem(uni_difs))\n",
    "    uni_gate_counts.append(uni_gate_count)"
   ]
  },
  {
   "cell_type": "markdown",
   "metadata": {},
   "source": [
    "#### Plot the data"
   ]
  },
  {
   "cell_type": "code",
   "execution_count": 18,
   "metadata": {},
   "outputs": [
    {
     "data": {
      "image/png": "[encoded data removed]",
      "text/plain": [
       "<Figure size 576x288 with 1 Axes>"
      ]
     },
     "metadata": {
      "needs_background": "light"
     },
     "output_type": "display_data"
    },
    {
     "data": {
      "image/png": "[encoded data removed]",
      "text/plain": [
       "<Figure size 576x288 with 1 Axes>"
      ]
     },
     "metadata": {
      "needs_background": "light"
     },
     "output_type": "display_data"
    }
   ],
   "source": [
    "dif = (ks[1] - ks[0]) / 10\n",
    "l = len(ks)\n",
    "\n",
    "plt.figure(figsize=(8, 4))\n",
    "plt.errorbar(np.array(ks) + dif, uni_difs_k, yerr=uni_stds_k, color='tab:blue', label=r'$F_Q$', fmt='o-', capsize=7, linewidth=1, markersize=7)\n",
    "plt.errorbar(np.array(ks) - dif, [var_dif]*l, yerr=[var_std]*l, color='tab:red', label=r'$F_H$', fmt='s-', capsize=7, linewidth=1, markersize=7)\n",
    "plt.hlines(y=0, xmin=ks[0]-0.3, xmax=ks[-1]+0.3, colors='black', linestyles='solid')\n",
    "plt.legend(fontsize=14)\n",
    "plt.grid()\n",
    "plt.xlim(ks[0]-0.3, ks[-1]+0.3)\n",
    "plt.xticks(ks, fontsize=14)\n",
    "plt.yticks(fontsize=14)\n",
    "plt.xlabel(r'Trotter steps $r$', fontsize=16)\n",
    "plt.ylabel(r'$\\delta$', fontsize=16)\n",
    "# plt.savefig(str(n_qubits) + 'q-' + str(n_instances) + 'n' + '-delta_k.png', bbox_inches='tight')\n",
    "# plt.savefig(str(n_qubits) + 'q-' + str(n_instances) + 'n' + '-delta_k.pdf', bbox_inches='tight')\n",
    "plt.show()\n",
    "\n",
    "plt.figure(figsize=(8, 4))\n",
    "plt.plot(np.array(ks) + dif, uni_gate_counts, color='tab:blue', label=r'$F_Q$', marker='o', linewidth=1, markersize=7)\n",
    "plt.plot(np.array(ks) - dif, [var_gate_count]*l, color='tab:red', label=r'$F_H$', marker='s', linewidth=1, markersize=7)\n",
    "plt.hlines(y=0, xmin=ks[0]-0.3, xmax=ks[-1]+0.3, colors='black', linestyles='solid')\n",
    "plt.legend(fontsize=14)\n",
    "plt.grid()\n",
    "plt.xlim(ks[0]-0.3, ks[-1]+0.3)\n",
    "plt.xticks(ks, fontsize=14)\n",
    "plt.yticks(fontsize=14)\n",
    "plt.xlabel(r'Trotter steps $r$', fontsize=16)\n",
    "plt.ylabel(r'Gate count', fontsize=16)\n",
    "plt.show()"
   ]
  },
  {
   "cell_type": "markdown",
   "metadata": {},
   "source": [
    "## Number of terms in the Ising Hamiltonian"
   ]
  },
  {
   "cell_type": "code",
   "execution_count": 19,
   "metadata": {},
   "outputs": [
    {
     "name": "stdout",
     "output_type": "stream",
     "text": [
      "N^2_terms expected: 36\n",
      "N^2_terms actual: 36\n",
      "\n",
      "N_x expected: 35\n",
      "N_x actual: 35\n"
     ]
    }
   ],
   "source": [
    "n_qubits = 5\n",
    "ham = hamiltonian_dict_to_matrix(ising_model_dict(n_qubits, 1, 1))\n",
    "\n",
    "print('N^2_terms expected:', 1 - 3*n_qubits + 2*n_qubits**2)\n",
    "print('N^2_terms actual:', len(hamiltonian_matrix_to_dict(n_qubits, ham.dot(ham))))\n",
    "print()\n",
    "\n",
    "n_X = 0\n",
    "for key in hamiltonian_matrix_to_dict(n_qubits, ham.dot(ham)).keys():\n",
    "    for char in key:\n",
    "        if char == 'X':\n",
    "            n_X += 1\n",
    "print('N_x expected:', n_qubits * (2*n_qubits - 3))\n",
    "print('N_x actual:', n_X)"
   ]
  },
  {
   "cell_type": "code",
   "execution_count": null,
   "metadata": {},
   "outputs": [],
   "source": []
  }
 ],
 "metadata": {
  "kernelspec": {
   "display_name": "Python 3",
   "language": "python",
   "name": "python3"
  },
  "language_info": {
   "codemirror_mode": {
    "name": "ipython",
    "version": 3
   },
   "file_extension": ".py",
   "mimetype": "text/x-python",
   "name": "python",
   "nbconvert_exporter": "python",
   "pygments_lexer": "ipython3",
   "version": "3.7.10"
  }
 },
 "nbformat": 4,
 "nbformat_minor": 4
}
